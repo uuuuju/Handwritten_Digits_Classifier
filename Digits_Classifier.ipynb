{
  "nbformat": 4,
  "nbformat_minor": 0,
  "metadata": {
    "colab": {
      "name": "Digits_Classifier.ipynb",
      "provenance": [],
      "authorship_tag": "ABX9TyPJhDdzJJvUpMxZy0DXPZVH",
      "include_colab_link": true
    },
    "kernelspec": {
      "name": "python3",
      "display_name": "Python 3"
    },
    "language_info": {
      "name": "python"
    }
  },
  "cells": [
    {
      "cell_type": "markdown",
      "metadata": {
        "id": "view-in-github",
        "colab_type": "text"
      },
      "source": [
        "<a href=\"https://colab.research.google.com/github/uuuuju/Handwritten_Digits_Classifier/blob/main/Digits_Classifier.ipynb\" target=\"_parent\"><img src=\"https://colab.research.google.com/assets/colab-badge.svg\" alt=\"Open In Colab\"/></a>"
      ]
    },
    {
      "cell_type": "markdown",
      "source": [
        "Importing the required libraries"
      ],
      "metadata": {
        "id": "SUzpDSxIgmD3"
      }
    },
    {
      "cell_type": "code",
      "execution_count": null,
      "metadata": {
        "id": "UzVRrE8oex0N"
      },
      "outputs": [],
      "source": [
        "import matplotlib.pyplot as plt\n",
        "from sklearn import datasets, svm, metrics\n",
        "from sklearn.model_selection import train_test_split"
      ]
    },
    {
      "cell_type": "markdown",
      "source": [
        "Loading the dataset"
      ],
      "metadata": {
        "id": "0oVrHJUGgj74"
      }
    },
    {
      "cell_type": "code",
      "source": [
        "digits = datasets.load_digits()"
      ],
      "metadata": {
        "id": "hLoePHrLgYmw"
      },
      "execution_count": null,
      "outputs": []
    },
    {
      "cell_type": "markdown",
      "source": [
        "Visualizing images from the dataset:"
      ],
      "metadata": {
        "id": "laHkSaBjiBg3"
      }
    },
    {
      "cell_type": "code",
      "source": [
        "print(digits.data.shape)\n"
      ],
      "metadata": {
        "colab": {
          "base_uri": "https://localhost:8080/"
        },
        "id": "h6DZP4L1iG5H",
        "outputId": "d4d027dc-cb73-4cac-bfc2-f4d448a66538"
      },
      "execution_count": null,
      "outputs": [
        {
          "output_type": "stream",
          "name": "stdout",
          "text": [
            "(1797, 64)\n"
          ]
        }
      ]
    },
    {
      "cell_type": "code",
      "source": [
        "plt.gray()"
      ],
      "metadata": {
        "colab": {
          "base_uri": "https://localhost:8080/",
          "height": 34
        },
        "id": "5QgbRfediK8v",
        "outputId": "b3253eb2-578d-48a7-ef8b-42b6a2016fd3"
      },
      "execution_count": null,
      "outputs": [
        {
          "output_type": "display_data",
          "data": {
            "text/plain": [
              "<Figure size 432x288 with 0 Axes>"
            ]
          },
          "metadata": {}
        }
      ]
    },
    {
      "cell_type": "code",
      "source": [
        "plt.matshow(digits.images[0])\n",
        "plt.show()"
      ],
      "metadata": {
        "colab": {
          "base_uri": "https://localhost:8080/",
          "height": 275
        },
        "id": "vKkUK6fOiPR4",
        "outputId": "880a7db1-6461-4333-c889-5d574a521601"
      },
      "execution_count": null,
      "outputs": [
        {
          "output_type": "display_data",
          "data": {
            "text/plain": [
              "<Figure size 288x288 with 1 Axes>"
            ],
            "image/png": "[encoded data removed]"
          },
          "metadata": {
            "needs_background": "light"
          }
        }
      ]
    },
    {
      "cell_type": "code",
      "source": [
        "_, axes = plt.subplots(nrows=1, ncols=6, figsize=(10, 3))\n",
        "for ax, image, label in zip(axes, digits.images, digits.target):\n",
        "    ax.set_axis_off()\n",
        "    ax.imshow(image, cmap=plt.cm.gray_r, interpolation=\"nearest\")\n",
        "    ax.set_title(\"Training: %i\" % label)"
      ],
      "metadata": {
        "colab": {
          "base_uri": "https://localhost:8080/",
          "height": 127
        },
        "id": "K6LQHm_agjAg",
        "outputId": "4a728275-4c10-4ff6-d884-b78f23005e35"
      },
      "execution_count": null,
      "outputs": [
        {
          "output_type": "display_data",
          "data": {
            "text/plain": [
              "<Figure size 720x216 with 6 Axes>"
            ],
            "image/png": "[encoded data removed]"
          },
          "metadata": {
            "needs_background": "light"
          }
        }
      ]
    },
    {
      "cell_type": "markdown",
      "source": [
        "Flattening the images"
      ],
      "metadata": {
        "id": "38kCI8yWkwUb"
      }
    },
    {
      "cell_type": "code",
      "source": [
        "n_samples = len(digits.images)\n",
        "data = digits.images.reshape((n_samples, -1))"
      ],
      "metadata": {
        "id": "4wU23tMSj4ZU"
      },
      "execution_count": null,
      "outputs": []
    },
    {
      "cell_type": "markdown",
      "source": [
        "Support Vector Classifier:"
      ],
      "metadata": {
        "id": "5hfkjoNbk2t7"
      }
    },
    {
      "cell_type": "code",
      "source": [
        "clf = svm.SVC(gamma=0.001)"
      ],
      "metadata": {
        "id": "wdS7lAT3ky9D"
      },
      "execution_count": null,
      "outputs": []
    },
    {
      "cell_type": "markdown",
      "source": [
        "Splitting into train and test data in 1:1 ratio"
      ],
      "metadata": {
        "id": "7jdYYi87k9J6"
      }
    },
    {
      "cell_type": "code",
      "source": [
        "X_train, X_test, y_train, y_test = train_test_split(\n",
        "    data, digits.target, test_size=0.5, shuffle=False\n",
        ")"
      ],
      "metadata": {
        "id": "WACzIeUIk5US"
      },
      "execution_count": null,
      "outputs": []
    },
    {
      "cell_type": "markdown",
      "source": [
        "Fitting the data:"
      ],
      "metadata": {
        "id": "ZYYER6WVlESK"
      }
    },
    {
      "cell_type": "code",
      "source": [
        "clf.fit(X_train, y_train)\n"
      ],
      "metadata": {
        "colab": {
          "base_uri": "https://localhost:8080/"
        },
        "id": "WdAt7wPJlG2y",
        "outputId": "a4cf0965-a673-48a8-c364-1df9f6ff5d2d"
      },
      "execution_count": null,
      "outputs": [
        {
          "output_type": "execute_result",
          "data": {
            "text/plain": [
              "SVC(gamma=0.001)"
            ]
          },
          "metadata": {},
          "execution_count": 18
        }
      ]
    },
    {
      "cell_type": "code",
      "source": [
        "predicted = clf.predict(X_test)\n"
      ],
      "metadata": {
        "id": "01Ane1otlN1x"
      },
      "execution_count": null,
      "outputs": []
    },
    {
      "cell_type": "markdown",
      "source": [
        "Prediction for the first 6 test samples:"
      ],
      "metadata": {
        "id": "6d_EpD6TlSvp"
      }
    },
    {
      "cell_type": "code",
      "source": [
        "_, axes = plt.subplots(nrows=1, ncols=6, figsize=(10, 3))\n",
        "for ax, image, prediction in zip(axes, X_test, predicted):\n",
        "    ax.set_axis_off()\n",
        "    image = image.reshape(8, 8)\n",
        "    ax.imshow(image, cmap=plt.cm.gray_r, interpolation=\"nearest\")\n",
        "    ax.set_title(f\"Prediction: {prediction}\")"
      ],
      "metadata": {
        "colab": {
          "base_uri": "https://localhost:8080/",
          "height": 127
        },
        "id": "vKvU8bVGlhVp",
        "outputId": "fa5b9832-c1c2-4f36-ca03-24fa71a5fb34"
      },
      "execution_count": null,
      "outputs": [
        {
          "output_type": "display_data",
          "data": {
            "text/plain": [
              "<Figure size 720x216 with 6 Axes>"
            ],
            "image/png": "[encoded data removed]"
          },
          "metadata": {
            "needs_background": "light"
          }
        }
      ]
    },
    {
      "cell_type": "markdown",
      "source": [
        "confusion matrix of the true digit values and the predicted digit values:\n",
        "(entry i,j in a confusion matrix is the number of observations actually in group i, but predicted to be in group j."
      ],
      "metadata": {
        "id": "VQ6NoK5Zl1gD"
      }
    },
    {
      "cell_type": "code",
      "source": [
        "disp = metrics.ConfusionMatrixDisplay.from_predictions(y_test, predicted)\n",
        "disp.figure_.suptitle(\"Confusion Matrix\")\n",
        "print(f\"Confusion matrix:\\n{disp.confusion_matrix}\")\n",
        "\n",
        "plt.show()\n"
      ],
      "metadata": {
        "colab": {
          "base_uri": "https://localhost:8080/",
          "height": 499
        },
        "id": "MxCiGem-mBA-",
        "outputId": "5bfc9485-d308-4b5a-bdf9-8df6594f9e8b"
      },
      "execution_count": null,
      "outputs": [
        {
          "output_type": "stream",
          "name": "stdout",
          "text": [
            "Confusion matrix:\n",
            "[[87  0  0  0  1  0  0  0  0  0]\n",
            " [ 0 88  1  0  0  0  0  0  1  1]\n",
            " [ 0  0 85  1  0  0  0  0  0  0]\n",
            " [ 0  0  0 79  0  3  0  4  5  0]\n",
            " [ 0  0  0  0 88  0  0  0  0  4]\n",
            " [ 0  0  0  0  0 88  1  0  0  2]\n",
            " [ 0  1  0  0  0  0 90  0  0  0]\n",
            " [ 0  0  0  0  0  1  0 88  0  0]\n",
            " [ 0  0  0  0  0  0  0  0 88  0]\n",
            " [ 0  0  0  1  0  1  0  0  0 90]]\n"
          ]
        },
        {
          "output_type": "display_data",
          "data": {
            "text/plain": [
              "<Figure size 432x288 with 2 Axes>"
            ],
            "image/png": "[encoded data removed]"
          },
          "metadata": {
            "needs_background": "light"
          }
        }
      ]
    }
  ]
}